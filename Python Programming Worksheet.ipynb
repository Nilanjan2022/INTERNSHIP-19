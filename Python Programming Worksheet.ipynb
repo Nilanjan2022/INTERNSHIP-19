{
 "cells": [
  {
   "cell_type": "code",
   "execution_count": 6,
   "id": "d3d861db",
   "metadata": {},
   "outputs": [
    {
     "name": "stdout",
     "output_type": "stream",
     "text": [
      "Enter a number: 10\n",
      "The factorial of 10 is 3628800\n"
     ]
    }
   ],
   "source": [
    "#Ans 11. \n",
    "\n",
    "\n",
    "num = int(input(\"Enter a number: \"))    \n",
    "factorial = 1    \n",
    "if num < 0:    \n",
    "   print(\" Factorial does not exist for negative numbers\")    \n",
    "elif num == 0:    \n",
    "   print(\"The factorial of 0 is 1\")    \n",
    "else:    \n",
    "   for i in range(1,num + 1):    \n",
    "       factorial = factorial*i    \n",
    "   print(\"The factorial of\",num,\"is\",factorial)"
   ]
  },
  {
   "cell_type": "code",
   "execution_count": 8,
   "id": "80e05e32",
   "metadata": {},
   "outputs": [
    {
     "name": "stdout",
     "output_type": "stream",
     "text": [
      "Enter a number: 10\n",
      "10 is not a prime number\n",
      "2 times 5 is 10\n"
     ]
    }
   ],
   "source": [
    "#Ans 12. \n",
    "\n",
    "num = int(input(\"Enter a number: \"))  \n",
    "  \n",
    "if num > 1:  \n",
    "   for i in range(2,num):  \n",
    "       if (num % i) == 0:  \n",
    "           print(num,\"is not a prime number\")  \n",
    "           print(i,\"times\",num//i,\"is\",num)  \n",
    "           break  \n",
    "   else:  \n",
    "       print(num,\"is a prime number\")  \n",
    "         \n",
    "else:  \n",
    "   print(num,\"is not a prime number\")"
   ]
  },
  {
   "cell_type": "code",
   "execution_count": 11,
   "id": "76602c3a",
   "metadata": {},
   "outputs": [
    {
     "name": "stdout",
     "output_type": "stream",
     "text": [
      "No\n"
     ]
    }
   ],
   "source": [
    "#Ans. 13\n",
    "\n",
    "def isPalindrome(str):\n",
    " \n",
    "    # Run loop from 0 to len/2\n",
    "    for i in range(0, int(len(str)/2)):\n",
    "        if str[i] != str[len(str)-i-1]:\n",
    "            return False\n",
    "    return True\n",
    " \n",
    "s = \"Dehi\"\n",
    "ans = isPalindrome(s)\n",
    " \n",
    "if (ans):\n",
    "    print(\"Yes\")\n",
    "else:\n",
    "    print(\"No\")"
   ]
  },
  {
   "cell_type": "code",
   "execution_count": 12,
   "id": "05bde401",
   "metadata": {},
   "outputs": [
    {
     "name": "stdout",
     "output_type": "stream",
     "text": [
      "Hypotenuse = 5.0\n",
      "Adjacent = 4.0\n",
      "Opposite = 3.0\n",
      "You know the answer!\n"
     ]
    }
   ],
   "source": [
    "#Ans. 14\n",
    "\n",
    "def pythagoras(opposite_side,adjacent_side,hypotenuse):\n",
    "        if opposite_side == str(\"x\"):\n",
    "            return (\"Opposite = \" + str(((hypotenuse**2) - (adjacent_side**2))**0.5))\n",
    "        elif adjacent_side == str(\"x\"):\n",
    "            return (\"Adjacent = \" + str(((hypotenuse**2) - (opposite_side**2))**0.5))\n",
    "        elif hypotenuse == str(\"x\"):\n",
    "            return (\"Hypotenuse = \" + str(((opposite_side**2) + (adjacent_side**2))**0.5))\n",
    "        else:\n",
    "            return \"You know the answer!\"\n",
    "    \n",
    "print(pythagoras(3,4,'x'))\n",
    "print(pythagoras(3,'x',5))\n",
    "print(pythagoras('x',4,5))\n",
    "print(pythagoras(3,4,5))"
   ]
  },
  {
   "cell_type": "code",
   "execution_count": 16,
   "id": "09c53823",
   "metadata": {},
   "outputs": [
    {
     "name": "stdout",
     "output_type": "stream",
     "text": [
      "Count of all characters in GeeksforGeeks is :\n",
      " {'G': 2, 'e': 4, 'k': 2, 's': 2, 'f': 1, 'o': 1, 'r': 1}\n"
     ]
    }
   ],
   "source": [
    "#Ans. 15.\n",
    "test_str = \"GeeksforGeeks\"\n",
    "# using naive method to get count \n",
    "# of each element in string \n",
    "all_freq = {}\n",
    "  \n",
    "for i in test_str:\n",
    "    if i in all_freq:\n",
    "        all_freq[i] += 1\n",
    "    else:\n",
    "        all_freq[i] = 1\n",
    "print (\"Count of all characters in GeeksforGeeks is :\\n \"\n",
    "                                        +  str(all_freq))"
   ]
  },
  {
   "cell_type": "code",
   "execution_count": null,
   "id": "06372986",
   "metadata": {},
   "outputs": [],
   "source": []
  }
 ],
 "metadata": {
  "kernelspec": {
   "display_name": "Python 3",
   "language": "python",
   "name": "python3"
  },
  "language_info": {
   "codemirror_mode": {
    "name": "ipython",
    "version": 3
   },
   "file_extension": ".py",
   "mimetype": "text/x-python",
   "name": "python",
   "nbconvert_exporter": "python",
   "pygments_lexer": "ipython3",
   "version": "3.8.8"
  }
 },
 "nbformat": 4,
 "nbformat_minor": 5
}
